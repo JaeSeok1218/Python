{
 "cells": [
  {
   "cell_type": "markdown",
   "id": "3daccc52",
   "metadata": {},
   "source": [
    "<h1 style=\"font-size:3rem;color:green;\">Extract Data Example</h1>"
   ]
  },
  {
   "cell_type": "code",
   "execution_count": null,
   "id": "e48b500d",
   "metadata": {},
   "outputs": [],
   "source": [
    "from bs4 import BeautifulSoup\n",
    "import requests\n",
    "import re"
   ]
  },
  {
   "cell_type": "code",
   "execution_count": null,
   "id": "0fd96f23",
   "metadata": {},
   "outputs": [],
   "source": [
    "gpu = input(\"What gpu do you want to search for? \")\n",
    "\n",
    "url = f\"https://www.newegg.ca/p/pl?d={gpu}&N=4131\"\n",
    "page = requests.get(url).text\n",
    "doc = BeautifulSoup(page, \"html.parser\")\n",
    "\n",
    "page_text = doc.find(class_=\"list-tool-pagination-text\")\n",
    "print(page_text)"
   ]
  },
  {
   "cell_type": "code",
   "execution_count": null,
   "id": "cd045fbd",
   "metadata": {},
   "outputs": [],
   "source": [
    "page_text = doc.find(class_=\"list-tool-pagination-text\").strong\n",
    "print(page_text)"
   ]
  },
  {
   "cell_type": "code",
   "execution_count": null,
   "id": "8bb349f6",
   "metadata": {},
   "outputs": [],
   "source": [
    "#Obtain only right parted number\n",
    "pages = str(page_text).split(\"/\")[-2] # split that by \"/\" and pick the second end\n",
    "print(pages)"
   ]
  },
  {
   "cell_type": "code",
   "execution_count": null,
   "id": "a9ea45ac",
   "metadata": {},
   "outputs": [],
   "source": [
    "pages = int(str(page_text).split(\"/\")[-2].split(\">\")[-1][:-1]) # :-1 remove the last one\n",
    "print(pages)"
   ]
  },
  {
   "cell_type": "code",
   "execution_count": null,
   "id": "11884df9",
   "metadata": {},
   "outputs": [],
   "source": [
    "gpu = input(\"What gpu do you want to search for? \")\n",
    "\n",
    "pages = int(str(page_text).split(\"/\")[-2].split(\">\")[-1][:-1]) # :-1 remove the last one\n",
    "\n",
    "for page in range(1, pages+1):\n",
    "    url = f\"https://www.newegg.ca/p/pl?d={gpu}&N=4131&page={page}\"\n",
    "    page = requests.get(url).text\n",
    "    doc = BeautifulSoup(page, \"html.parser\")\n",
    "    \n",
    "    items = doc.find_all(string=re.compile(gpu)) # not only '4080' but also capture '4080 ABC'\n",
    "    for item in items:\n",
    "        print(item)"
   ]
  },
  {
   "cell_type": "code",
   "execution_count": null,
   "id": "88f8f62e",
   "metadata": {},
   "outputs": [],
   "source": [
    "gpu = input(\"What gpu do you want to search for? \")\n",
    "\n",
    "pages = int(str(page_text).split(\"/\")[-2].split(\">\")[-1][:-1]) # :-1 remove the last one\n",
    "\n",
    "for page in range(1, pages+1):\n",
    "    url = f\"https://www.newegg.ca/p/pl?d={gpu}&N=4131&page={page}\"\n",
    "    page = requests.get(url).text\n",
    "    doc = BeautifulSoup(page, \"html.parser\")\n",
    "    div = doc.find(class_=\"item-cells-wrap border-cells short-video-box items-grid-view four-cells expulsion-one-cell\")\n",
    "                        # copy the attribute\n",
    "    items = div.find_all(string=re.compile(gpu)) # not only '4080' but also capture '4080 ABC'\n",
    "    for item in items:\n",
    "        print(item)"
   ]
  },
  {
   "cell_type": "code",
   "execution_count": null,
   "id": "26aef85a",
   "metadata": {},
   "outputs": [],
   "source": [
    "gpu = input(\"What gpu do you want to search for? \")\n",
    "\n",
    "pages = int(str(page_text).split(\"/\")[-2].split(\">\")[-1][:-1]) # :-1 remove the last one\n",
    "\n",
    "for page in range(1, pages+1):\n",
    "    url = f\"https://www.newegg.ca/p/pl?d={gpu}&N=4131&page={page}\"\n",
    "    page = requests.get(url).text\n",
    "    doc = BeautifulSoup(page, \"html.parser\")\n",
    "    div = doc.find(class_=\"item-cells-wrap border-cells short-video-box items-grid-view four-cells expulsion-one-cell\")\n",
    "                        # copy the attribute\n",
    "    items = div.find_all(string=re.compile(gpu)) # not only '4080' but also capture '4080 ABC'\n",
    "    for item in items:\n",
    "        parent = item.parent\n",
    "        link = None # try to figure out\n",
    "        if parent.name == \"a\": # See in the inspect window\n",
    "            link = parent['href'] # See in the inspect window\n",
    "        print(link)"
   ]
  },
  {
   "cell_type": "code",
   "execution_count": null,
   "id": "f7d0a0f5",
   "metadata": {},
   "outputs": [],
   "source": [
    "gpu = input(\"What gpu do you want to search for? \")\n",
    "\n",
    "pages = int(str(page_text).split(\"/\")[-2].split(\">\")[-1][:-1]) # :-1 remove the last one\n",
    "\n",
    "for page in range(1, pages+1):\n",
    "    url = f\"https://www.newegg.ca/p/pl?d={gpu}&N=4131&page={page}\"\n",
    "    page = requests.get(url).text\n",
    "    doc = BeautifulSoup(page, \"html.parser\")\n",
    "    div = doc.find(class_=\"item-cells-wrap border-cells short-video-box items-grid-view four-cells expulsion-one-cell\")\n",
    "                        # copy the attribute\n",
    "    items = div.find_all(string=re.compile(gpu)) # not only '4080' but also capture '4080 ABC'\n",
    "    for item in items:\n",
    "        parent = item.parent\n",
    "        if parent.name != \"a\":\n",
    "            continue\n",
    "            \n",
    "        link = parent['href']\n",
    "        next_parent = parent.parent # Error from this parent.parent\n",
    "        price = next_parent.find(class_=\"price-current\") # See in the inspect window\n",
    "        print(price)"
   ]
  },
  {
   "cell_type": "code",
   "execution_count": null,
   "id": "1f26045d",
   "metadata": {},
   "outputs": [],
   "source": [
    "gpu = input(\"What gpu do you want to search for? \")\n",
    "\n",
    "pages = int(str(page_text).split(\"/\")[-2].split(\">\")[-1][:-1]) # :-1 remove the last one\n",
    "\n",
    "for page in range(1, pages+1):\n",
    "    url = f\"https://www.newegg.ca/p/pl?d={gpu}&N=4131&page={page}\"\n",
    "    page = requests.get(url).text\n",
    "    doc = BeautifulSoup(page, \"html.parser\")\n",
    "    div = doc.find(class_=\"item-cells-wrap border-cells short-video-box items-grid-view four-cells expulsion-one-cell\")\n",
    "                        # copy the attribute\n",
    "    items = div.find_all(string=re.compile(gpu)) # not only '4080' but also capture '4080 ABC'\n",
    "    for item in items:\n",
    "        parent = item.parent\n",
    "        if parent.name != \"a\":\n",
    "            continue\n",
    "            \n",
    "        link = parent['href']\n",
    "        next_parent = item.find_parent(class_=\"item-container\") # See in the inspect window\n",
    "        price = next_parent.find(class_=\"price-current\").strong.string\n",
    "        print(price)"
   ]
  },
  {
   "cell_type": "code",
   "execution_count": null,
   "id": "af0c3a32",
   "metadata": {},
   "outputs": [],
   "source": [
    "gpu = input(\"What gpu do you want to search for? \")\n",
    "\n",
    "pages = int(str(page_text).split(\"/\")[-2].split(\">\")[-1][:-1]) # :-1 remove the last one\n",
    "\n",
    "items_found = {}\n",
    "\n",
    "for page in range(1, pages+1):\n",
    "    url = f\"https://www.newegg.ca/p/pl?d={gpu}&N=4131&page={page}\"\n",
    "    page = requests.get(url).text\n",
    "    doc = BeautifulSoup(page, \"html.parser\")\n",
    "    div = doc.find(class_=\"item-cells-wrap border-cells short-video-box items-grid-view four-cells expulsion-one-cell\")\n",
    "                        # copy the attribute\n",
    "    items = div.find_all(string=re.compile(gpu)) # not only '4080' but also capture '4080 ABC'\n",
    "    for item in items:\n",
    "        parent = item.parent\n",
    "        if parent.name != \"a\":\n",
    "            continue\n",
    "            \n",
    "        link = parent['href']\n",
    "        next_parent = item.find_parent(class_=\"item-container\") # See in the inspect window\n",
    "        price = next_parent.find(class_=\"price-current\").strong.string\n",
    "        \n",
    "        items_found[item] = {\"price\": price, \"link\": link}\n",
    "\n",
    "print(items_found)"
   ]
  },
  {
   "cell_type": "code",
   "execution_count": null,
   "id": "e8575edf",
   "metadata": {},
   "outputs": [],
   "source": [
    "gpu = input(\"What gpu do you want to search for? \")\n",
    "\n",
    "pages = int(str(page_text).split(\"/\")[-2].split(\">\")[-1][:-1]) # :-1 remove the last one\n",
    "\n",
    "items_found = {}\n",
    "\n",
    "for page in range(1, pages+1):\n",
    "    url = f\"https://www.newegg.ca/p/pl?d={gpu}&N=4131&page={page}\"\n",
    "    page = requests.get(url).text\n",
    "    doc = BeautifulSoup(page, \"html.parser\")\n",
    "    div = doc.find(class_=\"item-cells-wrap border-cells short-video-box items-grid-view four-cells expulsion-one-cell\")\n",
    "                        # copy the attribute\n",
    "    items = div.find_all(string=re.compile(gpu)) # not only '4080' but also capture '4080 ABC'\n",
    "    for item in items:\n",
    "        parent = item.parent\n",
    "        if parent.name != \"a\":\n",
    "            continue\n",
    "            \n",
    "        link = parent['href']\n",
    "        next_parent = item.find_parent(class_=\"item-container\") # See in the inspect window\n",
    "        price = next_parent.find(class_=\"price-current\").strong.string\n",
    "        \n",
    "        items_found[item] = {\"price\": int(price.replace(\",\", \"\")), \"link\": link}\n",
    "\n",
    "\n",
    "sorted_items = sorted(items_found.items(), key=lambda x: x[1]['price'])\n",
    "\n",
    "# Form in dictionary: [(\"4080 ABC\", {\"price\":1234, \"link\": \"www. ~\"})]\n",
    "\n",
    "for item in sorted_items:\n",
    "    print(item[0])\n",
    "    print(f\"${item[1]['price']}\")\n",
    "    print(item[1]['link'])"
   ]
  },
  {
   "cell_type": "code",
   "execution_count": null,
   "id": "1457639f",
   "metadata": {},
   "outputs": [],
   "source": [
    "gpu = input(\"What gpu do you want to search for? \")\n",
    "\n",
    "pages = int(str(page_text).split(\"/\")[-2].split(\">\")[-1][:-1]) # :-1 remove the last one\n",
    "\n",
    "items_found = {}\n",
    "\n",
    "for page in range(1, pages+1):\n",
    "    url = f\"https://www.newegg.ca/p/pl?d={gpu}&N=4131&page={page}\"\n",
    "    page = requests.get(url).text\n",
    "    doc = BeautifulSoup(page, \"html.parser\")\n",
    "    div = doc.find(class_=\"item-cells-wrap border-cells short-video-box items-grid-view four-cells expulsion-one-cell\")\n",
    "                        # copy the attribute\n",
    "    items = div.find_all(string=re.compile(gpu)) # not only '4080' but also capture '4080 ABC'\n",
    "    for item in items:\n",
    "        parent = item.parent\n",
    "        if parent.name != \"a\":\n",
    "            continue\n",
    "            \n",
    "        link = parent['href']\n",
    "        next_parent = item.find_parent(class_=\"item-container\") # See in the inspect window\n",
    "        try :\n",
    "            price = next_parent.find(class_=\"price-current\").find(\"strong\").string\n",
    "            items_found[item] = {\"price\": int(price.replace(\",\", \"\")), \"link\": link}\n",
    "        except :\n",
    "            pass\n",
    "\n",
    "\n",
    "sorted_items = sorted(items_found.items(), key=lambda x: x[1]['price'])\n",
    "\n",
    "# Form in dictionary: [(\"4080 ABC\", {\"price\":1234, \"link\": \"www. ~\"})]\n",
    "\n",
    "for item in sorted_items:\n",
    "    print(item[0])\n",
    "    print(f\"${item[1]['price']}\")\n",
    "    print(item[1]['link'])\n",
    "    print(\"----------------------------------------------------------------------------\")"
   ]
  }
 ],
 "metadata": {
  "kernelspec": {
   "display_name": "Python 3 (ipykernel)",
   "language": "python",
   "name": "python3"
  },
  "language_info": {
   "codemirror_mode": {
    "name": "ipython",
    "version": 3
   },
   "file_extension": ".py",
   "mimetype": "text/x-python",
   "name": "python",
   "nbconvert_exporter": "python",
   "pygments_lexer": "ipython3",
   "version": "3.11.4"
  }
 },
 "nbformat": 4,
 "nbformat_minor": 5
}
