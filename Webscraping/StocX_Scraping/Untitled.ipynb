{
 "cells": [
  {
   "cell_type": "code",
   "execution_count": 10,
   "id": "92750f5b",
   "metadata": {},
   "outputs": [],
   "source": [
    "import requests\n",
    "import pandas as pd\n",
    "import json\n",
    "\n",
    "headers = {'accept':'application/json', 'user-agent':'Mozilla/5.0 (Macintosh; Intel Mac OS X 10_15_7) AppleWebKit/605.1.15 (KHTML, like Gecko) Version/17.3.1 Safari/605.1.15'}"
   ]
  },
  {
   "cell_type": "code",
   "execution_count": 12,
   "id": "bc10e898",
   "metadata": {},
   "outputs": [],
   "source": [
    "url = \"https://stockx.com/air-jordan-1-low-fragment-design-x-travis-scott\"\n",
    "data = requests.get(url, headers=headers)"
   ]
  },
  {
   "cell_type": "code",
   "execution_count": 13,
   "id": "aaf5a0b5",
   "metadata": {},
   "outputs": [
    {
     "name": "stdout",
     "output_type": "stream",
     "text": [
      "<Response [403]>\n"
     ]
    }
   ],
   "source": [
    "print(data)"
   ]
  },
  {
   "cell_type": "markdown",
   "id": "60199ee8",
   "metadata": {},
   "source": [
    "### Other code"
   ]
  },
  {
   "cell_type": "code",
   "execution_count": 19,
   "id": "f50d5173",
   "metadata": {
    "scrolled": true
   },
   "outputs": [
    {
     "name": "stdout",
     "output_type": "stream",
     "text": [
      "<html>\r\n",
      "<head><title>403 Forbidden</title></head>\r\n",
      "<body>\r\n",
      "<center><h1>403 Forbidden</h1></center>\r\n",
      "<hr><center>cloudflare</center>\r\n",
      "</body>\r\n",
      "</html>\r\n",
      "\n"
     ]
    }
   ],
   "source": [
    "url = \"https://stockx.com/air-jordan-1-low-fragment-design-x-travis-scott\"\n",
    "\n",
    "headers = {'accept':'application/json',\n",
    "           'Accept-Encoding' : 'utf-8',\n",
    "           'Accept-Language': 'en-US,en;q=0.9',\n",
    "           'Connection': 'keep-alive',\n",
    "           'Content-Length': '123',\n",
    "            'Content-Type': 'text/plain',\n",
    "            'Host': 'ingest.quantummetric.com',\n",
    "            'Origin': 'https://stockx.com',\n",
    "            'Sec-Fetch-Dest': 'empty',\n",
    "            'Sec-Fetch-Mode': 'cors',\n",
    "            'Sec-Fetch-Site': 'cross-site',\n",
    "           'user-agent':'Mozilla/5.0 (Macintosh; Intel Mac OS X 10_15_7) AppleWebKit/605.1.15 (KHTML, like Gecko) Version/17.3.1 Safari/605.1.15'}\n",
    "\n",
    "\n",
    "html = requests.get(url = url, headers=headers)\n",
    "print(html.text)"
   ]
  },
  {
   "cell_type": "code",
   "execution_count": null,
   "id": "a179e919",
   "metadata": {},
   "outputs": [],
   "source": []
  }
 ],
 "metadata": {
  "kernelspec": {
   "display_name": "Python 3 (ipykernel)",
   "language": "python",
   "name": "python3"
  },
  "language_info": {
   "codemirror_mode": {
    "name": "ipython",
    "version": 3
   },
   "file_extension": ".py",
   "mimetype": "text/x-python",
   "name": "python",
   "nbconvert_exporter": "python",
   "pygments_lexer": "ipython3",
   "version": "3.11.4"
  }
 },
 "nbformat": 4,
 "nbformat_minor": 5
}
