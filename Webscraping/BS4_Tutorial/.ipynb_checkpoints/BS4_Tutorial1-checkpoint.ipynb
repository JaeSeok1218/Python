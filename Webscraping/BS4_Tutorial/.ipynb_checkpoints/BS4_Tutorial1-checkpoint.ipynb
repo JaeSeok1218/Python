{
 "cells": [
  {
   "cell_type": "markdown",
   "id": "48edf3e5",
   "metadata": {},
   "source": [
    "<h1 style=\"font-size:3rem;color:green;\">BeautifulSoup Tutorial 1</h1>"
   ]
  },
  {
   "cell_type": "markdown",
   "id": "5733ac1d",
   "metadata": {},
   "source": [
    "### Read 'html'"
   ]
  },
  {
   "cell_type": "code",
   "execution_count": null,
   "id": "8d468462",
   "metadata": {},
   "outputs": [],
   "source": [
    "from bs4 import BeautifulSoup\n",
    "\n",
    "with open(\"index.html\", \"r\") as f: #\"r\":read mode\n",
    "    doc = BeautifulSoup(f, \"html.parser\")\n",
    "\n",
    "print(doc.prettify()) # prettify: more readable"
   ]
  },
  {
   "cell_type": "markdown",
   "id": "d935ab66",
   "metadata": {},
   "source": [
    "### Print a specific"
   ]
  },
  {
   "cell_type": "code",
   "execution_count": null,
   "id": "552ac295",
   "metadata": {},
   "outputs": [],
   "source": [
    "tag = doc.title\n",
    "#tag.string = \"hello\" # change the tag\n",
    "print(tag.string) # string: only print string\n",
    "print(tag)"
   ]
  },
  {
   "cell_type": "code",
   "execution_count": null,
   "id": "406eeec9",
   "metadata": {},
   "outputs": [],
   "source": [
    "tag = doc.find(\"p\")\n",
    "#tags = doc.find_all(\"p\")\n",
    "print(tag)\n",
    "#print(tags.find_all(\"b\")) #find sub-subset (\"p\") -> (\"b\")"
   ]
  },
  {
   "cell_type": "markdown",
   "id": "d0001b6f",
   "metadata": {},
   "source": [
    "### Read 'url'"
   ]
  },
  {
   "cell_type": "code",
   "execution_count": null,
   "id": "e2cc9090",
   "metadata": {},
   "outputs": [],
   "source": [
    "import requests\n",
    "\n",
    "url = \"https://www.newegg.ca/p/N82E16834233516\"\n",
    "result = requests.get(url)\n",
    "print(result.text) # result has stored in result.text"
   ]
  },
  {
   "cell_type": "code",
   "execution_count": null,
   "id": "ab442689",
   "metadata": {},
   "outputs": [],
   "source": [
    "doc = BeautifulSoup(result.text, \"html.parser\")\n",
    "print(doc.prettify())"
   ]
  },
  {
   "cell_type": "markdown",
   "id": "abf0681b",
   "metadata": {},
   "source": [
    "### Find a price"
   ]
  },
  {
   "cell_type": "code",
   "execution_count": null,
   "id": "835cc9b4",
   "metadata": {},
   "outputs": [],
   "source": [
    "prices = doc.find_all(text=\"$\")\n",
    "print(prices)"
   ]
  },
  {
   "cell_type": "code",
   "execution_count": null,
   "id": "8098df77",
   "metadata": {},
   "outputs": [],
   "source": [
    "# Utilize bs4's tree structure (access to parent node)\n",
    "for i in [0,1,2]:\n",
    "    parent = prices[i].parent\n",
    "    print(parent)"
   ]
  },
  {
   "cell_type": "code",
   "execution_count": null,
   "id": "d07d7aa6",
   "metadata": {},
   "outputs": [],
   "source": [
    "parent = prices[1].parent\n",
    "strong = parent.find(\"strong\")\n",
    "sup = parent.find(\"sup\")\n",
    "print(strong.string, sup.string)"
   ]
  },
  {
   "cell_type": "markdown",
   "id": "1256adef",
   "metadata": {},
   "source": [
    "### Modify the 'html' file"
   ]
  },
  {
   "cell_type": "code",
   "execution_count": null,
   "id": "3bd3a129",
   "metadata": {},
   "outputs": [],
   "source": [
    "with open(\"index2.html\", \"r\") as f:\n",
    "    doc = BeautifulSoup(f, \"html.parser\")\n",
    "    \n",
    "result = doc.find_all(\"option\")\n",
    "print(result)"
   ]
  },
  {
   "cell_type": "code",
   "execution_count": null,
   "id": "400cde32",
   "metadata": {},
   "outputs": [],
   "source": [
    "tag = doc.find(\"option\")\n",
    "tag['value'] = 'new value'\n",
    "tag['color'] = \"blue\"\n",
    "tag['name'] = \"JS\"\n",
    "print(tag)"
   ]
  },
  {
   "cell_type": "code",
   "execution_count": null,
   "id": "ab8e790c",
   "metadata": {},
   "outputs": [],
   "source": [
    "#tag = doc.find_all([\"p\",\"div\",\"li\"])\n",
    "#tag = doc.find_all([\"option\"], value=\"undergraduate\")\n",
    "tag = doc.find_all([\"option\"], string=\"Undergraduate\") #String is better than 'text'\n",
    "print(tag)"
   ]
  },
  {
   "cell_type": "code",
   "execution_count": null,
   "id": "279a2c76",
   "metadata": {},
   "outputs": [],
   "source": [
    "tags = doc.find_all(class_=\"btn-item\") #creating class -> class_\n",
    "print(tag)"
   ]
  },
  {
   "cell_type": "code",
   "execution_count": null,
   "id": "5f333713",
   "metadata": {},
   "outputs": [],
   "source": [
    "import re\n",
    "\n",
    "tags = doc.find_all(string=re.compile(\"\\$.*\"), limit=2) # anything after $ sign\n",
    "                                                        #limit: limit the number of printed results\n",
    "print(tags)"
   ]
  },
  {
   "cell_type": "code",
   "execution_count": null,
   "id": "a0d46ea4",
   "metadata": {},
   "outputs": [],
   "source": [
    "for tag in tags:\n",
    "    print(tag.strip()) # get rid of white spaces"
   ]
  },
  {
   "cell_type": "markdown",
   "id": "04fadac9",
   "metadata": {},
   "source": [
    "### Save the modification"
   ]
  },
  {
   "cell_type": "code",
   "execution_count": null,
   "id": "b0c9175a",
   "metadata": {},
   "outputs": [],
   "source": [
    "tags = doc.find_all(\"input\", type=\"text\")\n",
    "for tag in tags:\n",
    "    tag['placeholder'] = \"I changed you!\"\n",
    "\n",
    "with open(\"changed.html\",\"w\") as file: # \"w\": overwrite or create a new file\n",
    "    file.write(str(doc))"
   ]
  }
 ],
 "metadata": {
  "kernelspec": {
   "display_name": "Python 3 (ipykernel)",
   "language": "python",
   "name": "python3"
  },
  "language_info": {
   "codemirror_mode": {
    "name": "ipython",
    "version": 3
   },
   "file_extension": ".py",
   "mimetype": "text/x-python",
   "name": "python",
   "nbconvert_exporter": "python",
   "pygments_lexer": "ipython3",
   "version": "3.11.4"
  }
 },
 "nbformat": 4,
 "nbformat_minor": 5
}
