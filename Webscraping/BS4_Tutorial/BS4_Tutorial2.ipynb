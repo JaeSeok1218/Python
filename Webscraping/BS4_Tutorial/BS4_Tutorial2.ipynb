{
 "cells": [
  {
   "cell_type": "markdown",
   "id": "8c382510",
   "metadata": {},
   "source": [
    "<h1 style=\"font-size:3rem;color:green;\">BeautifulSoup Tutorial 2</h1>"
   ]
  },
  {
   "cell_type": "code",
   "execution_count": null,
   "id": "ab703882",
   "metadata": {},
   "outputs": [],
   "source": [
    "from bs4 import BeautifulSoup\n",
    "import requests\n",
    "\n",
    "url = \"https://coinmarketcap.com\"\n",
    "result = requests.get(url).text\n",
    "doc = BeautifulSoup(result, \"html.parser\")\n",
    "\n",
    "tbody = doc.tbody\n",
    "print(tbody)"
   ]
  },
  {
   "cell_type": "code",
   "execution_count": null,
   "id": "5ed8bf4e",
   "metadata": {},
   "outputs": [],
   "source": [
    "trs = tbody.contents # many tr in t-body\n",
    "print(trs)"
   ]
  },
  {
   "cell_type": "code",
   "execution_count": null,
   "id": "b3b4e166",
   "metadata": {},
   "outputs": [],
   "source": [
    "print(trs[0].next_sibling) # print 1st"
   ]
  },
  {
   "cell_type": "code",
   "execution_count": null,
   "id": "7a99648c",
   "metadata": {},
   "outputs": [],
   "source": [
    "print(trs[1].previous_sibling) # print 0th\n",
    "#print(trs[1].previous_siblings)"
   ]
  },
  {
   "cell_type": "code",
   "execution_count": null,
   "id": "fb22c151",
   "metadata": {},
   "outputs": [],
   "source": [
    "print(list(trs[0].next_siblings)) # print all siblings after trs_0"
   ]
  },
  {
   "cell_type": "code",
   "execution_count": null,
   "id": "ae36ee9c",
   "metadata": {},
   "outputs": [],
   "source": [
    "#print(trs[0].parent)\n",
    "print(trs[0].parent.name)"
   ]
  },
  {
   "cell_type": "code",
   "execution_count": null,
   "id": "63dcce9d",
   "metadata": {},
   "outputs": [],
   "source": [
    "print(list(trs[0].descendants)) # descendatns = contents = children (a little bit different)"
   ]
  },
  {
   "cell_type": "code",
   "execution_count": null,
   "id": "723ce3c8",
   "metadata": {},
   "outputs": [],
   "source": [
    "prices = {} # dictionary\n",
    "\n",
    "for tr in trs:\n",
    "    for td in tr.contents:\n",
    "        print(td)\n",
    "        print()"
   ]
  },
  {
   "cell_type": "code",
   "execution_count": null,
   "id": "16d16a39",
   "metadata": {},
   "outputs": [],
   "source": [
    "for tr in trs:\n",
    "    name, price =  tr.contents[2:4]\n",
    "    print(name)\n",
    "    print()"
   ]
  },
  {
   "cell_type": "code",
   "execution_count": null,
   "id": "29379f58",
   "metadata": {},
   "outputs": [],
   "source": [
    "for tr in trs:\n",
    "    name, price =  tr.contents[2:4]\n",
    "    print(name.p.string) # the error will be generated because the name of coins are not inside of 'p' tag.\n",
    "    print()"
   ]
  },
  {
   "cell_type": "code",
   "execution_count": null,
   "id": "b4f7bab1",
   "metadata": {},
   "outputs": [],
   "source": [
    "for tr in trs[:10]:\n",
    "    name, price =  tr.contents[2:4]\n",
    "    fixed_name = name.p.string\n",
    "    print(price)"
   ]
  },
  {
   "cell_type": "code",
   "execution_count": null,
   "id": "4219ae0a",
   "metadata": {},
   "outputs": [],
   "source": [
    "for tr in trs[:10]:\n",
    "    name, price =  tr.contents[2:4]\n",
    "    fixed_name = name.p.string\n",
    "    print(price.a.string)"
   ]
  },
  {
   "cell_type": "code",
   "execution_count": null,
   "id": "de2ccee8",
   "metadata": {},
   "outputs": [],
   "source": [
    "for tr in trs[:10]:\n",
    "    name, price =  tr.contents[2:4]\n",
    "    fixed_name = name.p.string\n",
    "    fixed_price = price.a.string\n",
    "    prices[fixed_name] = fixed_price\n",
    "print(prices)"
   ]
  }
 ],
 "metadata": {
  "kernelspec": {
   "display_name": "Python 3 (ipykernel)",
   "language": "python",
   "name": "python3"
  },
  "language_info": {
   "codemirror_mode": {
    "name": "ipython",
    "version": 3
   },
   "file_extension": ".py",
   "mimetype": "text/x-python",
   "name": "python",
   "nbconvert_exporter": "python",
   "pygments_lexer": "ipython3",
   "version": "3.11.4"
  }
 },
 "nbformat": 4,
 "nbformat_minor": 5
}
